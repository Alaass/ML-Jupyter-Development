{
  "nbformat": 4,
  "nbformat_minor": 0,
  "metadata": {
    "colab": {
      "name": "JSMA Implementation - TF 2.0",
      "version": "0.3.2",
      "provenance": [],
      "collapsed_sections": [
        "Vs9wD38he0cM",
        "b4kgPQqp-hwR",
        "v8sm-2FnIzv7",
        "QpC4KgTS_Fj8",
        "qc_hLUbLAN55",
        "ZuO0xjqKKMmt",
        "d1XGAtITt-A7"
      ],
      "include_colab_link": true
    },
    "kernelspec": {
      "name": "python3",
      "display_name": "Python 3"
    }
  },
  "cells": [
    {
      "cell_type": "markdown",
      "metadata": {
        "id": "view-in-github",
        "colab_type": "text"
      },
      "source": [
        "<a href=\"https://colab.research.google.com/github/Alaass/ML-Jupyter-Development/blob/master/JSMA_attack.ipynb\" target=\"_parent\"><img src=\"https://colab.research.google.com/assets/colab-badge.svg\" alt=\"Open In Colab\"/></a>"
      ]
    },
    {
      "cell_type": "markdown",
      "metadata": {
        "id": "kNN7-9cMdQOm",
        "colab_type": "text"
      },
      "source": [
        "# Jacobian-based Saliency Map Attack (JSMA) \n",
        "\n",
        "### Based and adapted into a simplified version from work done by *Nicolas Papernot et al.* \n",
        "[The Limitations of Deep Learning in Adversarial Settings](https://arxiv.org/pdf/1511.07528.pdf)\n",
        "\n"
      ]
    },
    {
      "cell_type": "markdown",
      "metadata": {
        "id": "Vs9wD38he0cM",
        "colab_type": "text"
      },
      "source": [
        "## Import dependent libraries\n",
        "Tensorflow 2.0 required\n"
      ]
    },
    {
      "cell_type": "code",
      "metadata": {
        "id": "c73MpR3gvvGF",
        "colab_type": "code",
        "colab": {}
      },
      "source": [
        "#Uncomment next line if tf 2.0 is not installed, if you're running on Google Colab by default it is not installed\n",
        "#!pip install -q tensorflow==2.0.0b1"
      ],
      "execution_count": 0,
      "outputs": []
    },
    {
      "cell_type": "code",
      "metadata": {
        "id": "eBsLelavnv0u",
        "colab_type": "code",
        "colab": {}
      },
      "source": [
        "import tensorflow as tf\n",
        "import numpy as np\n",
        "import matplotlib.pyplot as plt\n",
        "\n",
        "print(tf.__version__)\n",
        "print(\"GPU Available: \", tf.test.is_gpu_available())"
      ],
      "execution_count": 0,
      "outputs": []
    },
    {
      "cell_type": "markdown",
      "metadata": {
        "id": "b4kgPQqp-hwR",
        "colab_type": "text"
      },
      "source": [
        "##Train a simple model on the Fashion MNIST dataset\n",
        "*This code snippet was extracted from [this](https://www.tensorflow.org/tutorials/keras/save_and_restore_models#save_the_entire_model) guide provided by the Tensorflow team"
      ]
    },
    {
      "cell_type": "code",
      "metadata": {
        "id": "uQVP1re__pbf",
        "colab_type": "code",
        "colab": {}
      },
      "source": [
        "fashion_mnist = tf.keras.datasets.fashion_mnist\n",
        "(train_images, train_labels), (test_images, test_labels) = fashion_mnist.load_data()\n",
        "class_names = ['T-shirt/top', 'Trouser', 'Pullover', 'Dress', 'Coat','Sandal', 'Shirt', 'Sneaker', 'Bag', 'Ankle boot']\n",
        "train_images = train_images / 255.0\n",
        "test_images = test_images / 255.0\n",
        "model = tf.keras.Sequential([\n",
        "    tf.keras.layers.Flatten(input_shape=(28, 28)),\n",
        "    tf.keras.layers.Dense(128, activation=tf.nn.relu),\n",
        "    tf.keras.layers.Dense(10, activation=tf.nn.softmax)\n",
        "])\n",
        "model.compile(optimizer='adam',\n",
        "              loss='sparse_categorical_crossentropy',\n",
        "              metrics=['accuracy'])\n",
        "model.fit(train_images, train_labels, epochs=10)\n",
        "test_loss, test_acc = model.evaluate(test_images, test_labels)\n",
        "print('Test accuracy:', test_acc)"
      ],
      "execution_count": 0,
      "outputs": []
    },
    {
      "cell_type": "markdown",
      "metadata": {
        "id": "v8sm-2FnIzv7",
        "colab_type": "text"
      },
      "source": [
        "#### The following are the labels for this model:\n",
        "\n",
        "<table>\n",
        "  <tr>\n",
        "    <th>Label</th>\n",
        "    <th>Class</th>\n",
        "  </tr>\n",
        "  <tr>\n",
        "    <td>0</td>\n",
        "    <td>T-shirt/top</td>\n",
        "  </tr>\n",
        "  <tr>\n",
        "    <td>1</td>\n",
        "    <td>Trouser</td>\n",
        "  </tr>\n",
        "    <tr>\n",
        "    <td>2</td>\n",
        "    <td>Pullover</td>\n",
        "  </tr>\n",
        "    <tr>\n",
        "    <td>3</td>\n",
        "    <td>Dress</td>\n",
        "  </tr>\n",
        "    <tr>\n",
        "    <td>4</td>\n",
        "    <td>Coat</td>\n",
        "  </tr>\n",
        "    <tr>\n",
        "    <td>5</td>\n",
        "    <td>Sandal</td>\n",
        "  </tr>\n",
        "    <tr>\n",
        "    <td>6</td>\n",
        "    <td>Shirt</td>\n",
        "  </tr>\n",
        "    <tr>\n",
        "    <td>7</td>\n",
        "    <td>Sneaker</td>\n",
        "  </tr>\n",
        "    <tr>\n",
        "    <td>8</td>\n",
        "    <td>Bag</td>\n",
        "  </tr>\n",
        "    <tr>\n",
        "    <td>9</td>\n",
        "    <td>Ankle boot</td>\n",
        "  </tr>\n",
        "</table>"
      ]
    },
    {
      "cell_type": "markdown",
      "metadata": {
        "id": "QpC4KgTS_Fj8",
        "colab_type": "text"
      },
      "source": [
        "## Implement the JSMA attack"
      ]
    },
    {
      "cell_type": "markdown",
      "metadata": {
        "id": "qc_hLUbLAN55",
        "colab_type": "text"
      },
      "source": [
        "### We must start off by choosing the image we will craft into an adversarial example. \n"
      ]
    },
    {
      "cell_type": "markdown",
      "metadata": {
        "id": "pobla8qJOZf8",
        "colab_type": "text"
      },
      "source": [
        "To do this, we pick a random image from the Test set. \n",
        "> *Doing this might still cause the prediction of that image to be wrong, but for the purposes of this guide it does not matter*"
      ]
    },
    {
      "cell_type": "code",
      "metadata": {
        "id": "1I3heMeHAgJH",
        "colab_type": "code",
        "colab": {}
      },
      "source": [
        "random_index = np.random.randint(test_images.shape[0])\n",
        "\n",
        "image = test_images[random_index]\n",
        "image_tensor = tf.convert_to_tensor(image.reshape((1,28,28))) #The .reshape just gives it the proper form to input into the model, a batch of 1 a.k.a a tensor\n",
        "original_pred = np.argmax(model.predict(image_tensor))"
      ],
      "execution_count": 0,
      "outputs": []
    },
    {
      "cell_type": "markdown",
      "metadata": {
        "id": "sklj9G-JJPRY",
        "colab_type": "text"
      },
      "source": [
        "We can then look at the image and at the prediction our model gave us."
      ]
    },
    {
      "cell_type": "code",
      "metadata": {
        "id": "k0ir_rYeJW6m",
        "colab_type": "code",
        "colab": {}
      },
      "source": [
        "plt.figure()\n",
        "plt.grid(False)\n",
        "plt.imshow(image, cmap=plt.cm.binary)\n",
        "plt.xlabel(class_names[original_pred])\n",
        "\n",
        "plt.show()"
      ],
      "execution_count": 0,
      "outputs": []
    },
    {
      "cell_type": "markdown",
      "metadata": {
        "id": "ZuO0xjqKKMmt",
        "colab_type": "text"
      },
      "source": [
        "### Now, we create the attack"
      ]
    },
    {
      "cell_type": "markdown",
      "metadata": {
        "id": "F8Hek7Sjj-Ny",
        "colab_type": "text"
      },
      "source": [
        "As the first step of the attack, the Jacobian Matrix of the model must be calculated.\n",
        "\n",
        "This function defines the algorithm to obtain the Jacobian Matrix of the model's output with respect to the input image, or in other words the forward derivative of the model for the given input. That is the gradient of every pixel in respect to each label\n",
        "\n",
        "It is defined by *N. Papernot et al.* as:\n",
        ">$ \\triangledown F(X) = \\frac{\\partial F(x)}{\\partial X} = \\left[ \\frac{\\partial F_{j}(x)}{\\partial X_{i}} \\right]_{i\\in1..M, j\\in 1..N}$\n",
        "\n"
      ]
    },
    {
      "cell_type": "code",
      "metadata": {
        "colab_type": "code",
        "id": "r1OdskjoxIJB",
        "colab": {}
      },
      "source": [
        "def getJacobian(num_labels, image, unrolled_size):\n",
        "  jacobian = []\n",
        "  \n",
        "  for i in range(num_labels):\n",
        "    with tf.GradientTape(watch_accessed_variables=False) as gt:   #Use tf.GradientTape to easily compute the forward derivative of the input for each label\n",
        "      gt.watch(image)\n",
        "      predictions = model(image)\n",
        "      grads = gt.gradient(predictions[:,i], image)\n",
        "      grads = tf.reshape(grads, [unrolled_size, 1]) # Unroll the matrix in order to get a single column of all features for every input\n",
        "      jacobian.append(grads)\n",
        "\n",
        "  jacobian = tf.concat(jacobian,1) # Stitch all separate arrays together into one matrix\n",
        "  jacobian = jacobian.numpy()\n",
        "    \n",
        "  return jacobian"
      ],
      "execution_count": 0,
      "outputs": []
    },
    {
      "cell_type": "markdown",
      "metadata": {
        "id": "ECoGUjSpoxF1",
        "colab_type": "text"
      },
      "source": [
        "Then the second step is defined in the next function as such:\n",
        "\n",
        "It takes the Jacobian matrix and the desired label you want the image to be classified like as inputs and gives them a score based on how much will changing that pixel affect the output of the model to the desired output. This is called a *Saliency Map*."
      ]
    },
    {
      "cell_type": "code",
      "metadata": {
        "id": "ihawmLNjfB7m",
        "colab_type": "code",
        "colab": {}
      },
      "source": [
        "def getSaliency(jacobian, target_label):\n",
        "  for i in range(jacobian.shape[1]):\n",
        "    if i != target_label:\n",
        "      jacobian[:,i] = np.where(jacobian[:,i] > 0, 0, jacobian[:,i]) \n",
        "      jacobian[:,i] = np.where(jacobian[:,i] < 0, jacobian[:,i] * (-1), jacobian[:,i]) \n",
        "    else:\n",
        "      jacobian[:,i] = np.where(jacobian[:,i] < 0, 0, jacobian[:,i]) \n",
        "  return jacobian"
      ],
      "execution_count": 0,
      "outputs": []
    },
    {
      "cell_type": "markdown",
      "metadata": {
        "id": "d1XGAtITt-A7",
        "colab_type": "text"
      },
      "source": [
        "### Still in Progress! Perturbation of image to create a misclassified version of it will be implemented next.\n"
      ]
    },
    {
      "cell_type": "code",
      "metadata": {
        "colab_type": "code",
        "id": "B5RK8UO5xMDV",
        "colab": {}
      },
      "source": [
        "target_label = 7 # This corresponds to a Sneaker\n",
        "num_labels = len(class_names)\n",
        "unrolled_size = image.flatten().size\n",
        "adv_image_tensor = tf.compat.v1.get_variable(initializer = image_tensor, name = 'adv_image_tensor')"
      ],
      "execution_count": 0,
      "outputs": []
    },
    {
      "cell_type": "code",
      "metadata": {
        "id": "JgsDM-N7uJ9a",
        "colab_type": "code",
        "colab": {}
      },
      "source": [
        "max_iter = 5000\n",
        "theta = 0.0001\n",
        "\n",
        "for i in range(max_iter):\n",
        "  if np.argmax(model.predict(adv_image_tensor.numpy())) != original_pred:\n",
        "    print(\"The model predicted the target label\")\n",
        "    break\n",
        "  \n",
        "  j_matrix = getJacobian(num_labels, adv_image_tensor, unrolled_size)\n",
        "  S_map = getSaliency(j_matrix, target_label) \n",
        "  \n",
        "  pixel = np.sort(tf.math.argmax(S_map))[0]\n",
        "  \n",
        "  adv_image_tensor[0, (pixel // 28), (pixel % 28)].assign(adv_image_tensor[0, (pixel // 28), (pixel % 28)] + theta)\n",
        "  \n",
        "  #pixels = np.sort(tf.math.argmax(S_map))[] # Select best 2 pixels that will distort the image towards the target label \n",
        "  \n",
        "  #for i in pixels:\n",
        "    #adv_image_tensor[0, (i // 28), (i % 28)].assign(adv_image_tensor[0, (i // 28), (i % 28)] + theta)\n",
        "  "
      ],
      "execution_count": 0,
      "outputs": []
    },
    {
      "cell_type": "code",
      "metadata": {
        "id": "n1B1U0OsXujh",
        "colab_type": "code",
        "cellView": "both",
        "colab": {}
      },
      "source": [
        "#@title\n",
        "plt.figure()\n",
        "plt.grid(False)\n",
        "plt.imshow(adv_image_tensor.numpy().reshape((28,28)), cmap=plt.cm.binary)\n",
        "plt.xlabel(class_names[np.argmax(model.predict(adv_image_tensor.numpy()))])\n",
        "\n",
        "plt.show()"
      ],
      "execution_count": 0,
      "outputs": []
    }
  ]
}